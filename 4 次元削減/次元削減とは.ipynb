{
 "cells": [
  {
   "cell_type": "markdown",
   "metadata": {},
   "source": [
    "# 次元削減とは"
   ]
  },
  {
   "cell_type": "markdown",
   "metadata": {},
   "source": [
    "データの情報を、維持しながらデータの圧縮を行う"
   ]
  },
  {
   "cell_type": "markdown",
   "metadata": {},
   "source": [
    "使う対象：正則化されていないモデル"
   ]
  },
  {
   "cell_type": "markdown",
   "metadata": {},
   "source": [
    "### 主成分分析(PCA)　→　教師なし線形変換法"
   ]
  },
  {
   "cell_type": "markdown",
   "metadata": {},
   "source": [
    "つまり、　高次元のデータにおいて分散が最大となる方向を見つけ出して、新しい部分空間へ射影する"
   ]
  },
  {
   "cell_type": "markdown",
   "metadata": {},
   "source": [
    "特徴量x1 , x2 があって、その分布の主成分　PC1 , PC2 を見出す。"
   ]
  },
  {
   "cell_type": "markdown",
   "metadata": {},
   "source": [
    "<img  src=\"ダウンロード.png\"/>"
   ]
  },
  {
   "cell_type": "markdown",
   "metadata": {},
   "source": [
    "### PCAアルゴリズムの流れ"
   ]
  },
  {
   "cell_type": "markdown",
   "metadata": {},
   "source": [
    "#### 1 : d次元のデータセットを標準化する"
   ]
  },
  {
   "cell_type": "markdown",
   "metadata": {},
   "source": [
    "#### 2 : データの共分散行列をつくる"
   ]
  },
  {
   "cell_type": "markdown",
   "metadata": {},
   "source": [
    "データ　Xp , Xq それぞれの共分散行列は以下で得られる。"
   ]
  },
  {
   "cell_type": "markdown",
   "metadata": {},
   "source": [
    "<img  src=\"latex (1).png\"/>"
   ]
  },
  {
   "cell_type": "markdown",
   "metadata": {},
   "source": [
    "共分散行列　の　固有ベクトル：主成分(分散が最大)　<br>\n",
    "                固有値　　　：大きさ"
   ]
  },
  {
   "cell_type": "markdown",
   "metadata": {},
   "source": [
    "ワインデータを扱うとすると、特徴量が13個あるため、　13×13の共分散行列がつくられ、13個の固有ベクトルと固有値が得られる。<br>\n",
    "サンプルコードでは、eigen_vals : 固有値　13個　<br>\n",
    "　　　　　　　　　　eigen_vec  : 固有ベクトル　13×13行列"
   ]
  },
  {
   "cell_type": "markdown",
   "metadata": {
    "collapsed": true
   },
   "source": [
    "#### 3 : 分散説明率を計算する"
   ]
  },
  {
   "cell_type": "markdown",
   "metadata": {},
   "source": [
    "固有値の合計に対する固有値：割合"
   ]
  },
  {
   "cell_type": "markdown",
   "metadata": {},
   "source": [
    "この分散説明率の割合の高さが、分散を占める割合を示している。<br>"
   ]
  },
  {
   "cell_type": "markdown",
   "metadata": {},
   "source": [
    "#### 4 : 射影行列を作成"
   ]
  },
  {
   "cell_type": "markdown",
   "metadata": {},
   "source": [
    "固有値が高いもの順にならべて、上位複数の固有ベクトルから　13×複数　の固有ベクトルの射影行列Wが作成される。"
   ]
  },
  {
   "cell_type": "markdown",
   "metadata": {},
   "source": [
    "#### 5 : トレーニングデータを良い成績の特徴量の次元で散布図を作成"
   ]
  },
  {
   "cell_type": "code",
   "execution_count": null,
   "metadata": {
    "collapsed": true
   },
   "outputs": [],
   "source": []
  }
 ],
 "metadata": {
  "kernelspec": {
   "display_name": "Python 3",
   "language": "python",
   "name": "python3"
  },
  "language_info": {
   "codemirror_mode": {
    "name": "ipython",
    "version": 3
   },
   "file_extension": ".py",
   "mimetype": "text/x-python",
   "name": "python",
   "nbconvert_exporter": "python",
   "pygments_lexer": "ipython3",
   "version": "3.6.0"
  }
 },
 "nbformat": 4,
 "nbformat_minor": 2
}
