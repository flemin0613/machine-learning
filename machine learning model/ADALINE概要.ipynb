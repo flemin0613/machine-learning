{
 "cells": [
  {
   "cell_type": "markdown",
   "metadata": {},
   "source": [
    "# ADALINEについて"
   ]
  },
  {
   "cell_type": "markdown",
   "metadata": {},
   "source": [
    "ADALINE（ADAptive LInear NEuron)　はperceptronのちょびっと進化形"
   ]
  },
  {
   "cell_type": "markdown",
   "metadata": {},
   "source": [
    "perceptronとADALINEの違いを図にしめした。"
   ]
  },
  {
   "cell_type": "markdown",
   "metadata": {},
   "source": [
    "<img  src=\"Zu2-1.png\"/>"
   ]
  },
  {
   "cell_type": "markdown",
   "metadata": {},
   "source": [
    "##### ■活性化関数の出力 <br>\n",
    "パーセプトロンの活性化関数は、総入力をクラスを表す数値に変換しますが、ADALINEの活性化関数の出力は総入力そのものになります。"
   ]
  },
  {
   "cell_type": "markdown",
   "metadata": {},
   "source": [
    "##### ■重みの更新 <br>\n",
    "パーセプトロンは重みをサンプルごとに更新しますが、ADALINEは全サンプルに対して更新します"
   ]
  },
  {
   "cell_type": "markdown",
   "metadata": {},
   "source": [
    "補足説明"
   ]
  },
  {
   "cell_type": "markdown",
   "metadata": {},
   "source": [
    "perceptronの内積の式："
   ]
  },
  {
   "cell_type": "markdown",
   "metadata": {},
   "source": [
    "<img  src=\"3-1.png\"/>"
   ]
  },
  {
   "cell_type": "markdown",
   "metadata": {},
   "source": [
    "単純perceptronの活性化関数："
   ]
  },
  {
   "cell_type": "markdown",
   "metadata": {},
   "source": [
    "<img  src=\"3-2.png\"/>"
   ]
  },
  {
   "cell_type": "markdown",
   "metadata": {},
   "source": [
    "ADALINEで使用される誤差は、誤差平方和（Sum of Squared Error : SSE）です。誤差平方和は、　<br>\n",
    "「各サンプルの真の値と予測値の差（残差）を2乗したものをすべてのサンプルに対して足し合わせたもの」"
   ]
  },
  {
   "cell_type": "markdown",
   "metadata": {},
   "source": [
    "誤差平方和が大きいほどサンプル全体として真の値と予測値の差が平均的に大きい"
   ]
  },
  {
   "cell_type": "markdown",
   "metadata": {},
   "source": [
    "N個のサンプルのインデックスを i = 0 から i = N − 1 までとすると、以下のように表すことができる"
   ]
  },
  {
   "cell_type": "markdown",
   "metadata": {},
   "source": [
    "<img  src=\"3-4.png\"/>"
   ]
  },
  {
   "cell_type": "markdown",
   "metadata": {},
   "source": [
    "## この誤差平方和が小さくなれば、真の値と予測値は平均的に近くなります。このような重み w0、w1、w2を探す必要がある"
   ]
  },
  {
   "cell_type": "markdown",
   "metadata": {},
   "source": [
    "J(w)をコスト関数という"
   ]
  },
  {
   "cell_type": "code",
   "execution_count": null,
   "metadata": {
    "collapsed": true
   },
   "outputs": [],
   "source": []
  }
 ],
 "metadata": {
  "kernelspec": {
   "display_name": "Python 3",
   "language": "python",
   "name": "python3"
  },
  "language_info": {
   "codemirror_mode": {
    "name": "ipython",
    "version": 3
   },
   "file_extension": ".py",
   "mimetype": "text/x-python",
   "name": "python",
   "nbconvert_exporter": "python",
   "pygments_lexer": "ipython3",
   "version": "3.6.0"
  }
 },
 "nbformat": 4,
 "nbformat_minor": 2
}
