{
 "cells": [
  {
   "cell_type": "markdown",
   "metadata": {},
   "source": [
    "# 全体的な流れ"
   ]
  },
  {
   "cell_type": "markdown",
   "metadata": {},
   "source": [
    "## 2章"
   ]
  },
  {
   "cell_type": "markdown",
   "metadata": {},
   "source": [
    "#### ・パーセプトロンの定義\n",
    "#### ・ADALINE <p>\n",
    "パーセプトロンの分類の誤差を利用して重みベクトルの更新関数を新たに用意して、精度上昇\n"
   ]
  },
  {
   "cell_type": "markdown",
   "metadata": {},
   "source": [
    "## 3章"
   ]
  },
  {
   "cell_type": "markdown",
   "metadata": {},
   "source": [
    "### ・scikit - learn を用いたいろいろなモデルのトレーニング"
   ]
  },
  {
   "cell_type": "markdown",
   "metadata": {},
   "source": [
    "・パーセプトロン <p>\n",
    "・ロジスティック回帰<p>\n",
    "・SVM<p>\n",
    "・カーネルSVM<p>\n",
    "・K近傍法<p>"
   ]
  },
  {
   "cell_type": "markdown",
   "metadata": {},
   "source": [
    "## 4章"
   ]
  },
  {
   "cell_type": "markdown",
   "metadata": {},
   "source": [
    "### ・データ前処理の方法"
   ]
  },
  {
   "cell_type": "markdown",
   "metadata": {},
   "source": [
    "カテゴリの文字列を数字に　<p>\n",
    "　　　　↓<p>\n",
    "クラスラベルを数字に<p>\n",
    "　　　　↓<p>\n",
    "データセットをトレーニングデータとテストデータに分割<p>\n",
    "　　　　↓<p>\n",
    "特徴量を標準化<p>\n",
    "　　　　↓<p>\n",
    "特徴量が多いときの有益な特徴量の選択<p>\n",
    "・逐次後退選択(SBS)  特徴量を逐次的に削除して性能評価<p>\n",
    "・ランダムフォレストで特徴量の重要度にアクセス<p>"
   ]
  },
  {
   "cell_type": "markdown",
   "metadata": {},
   "source": [
    "## 5章"
   ]
  },
  {
   "cell_type": "markdown",
   "metadata": {},
   "source": [
    "### ・次元削減の一種「主成分分析(PCA)」"
   ]
  },
  {
   "cell_type": "markdown",
   "metadata": {},
   "source": [
    "PCAの原理　<p>\n",
    "scikit-learn を用いたPCA<p>"
   ]
  },
  {
   "cell_type": "markdown",
   "metadata": {},
   "source": [
    "### ・カーネル主成分分析"
   ]
  },
  {
   "cell_type": "markdown",
   "metadata": {},
   "source": [
    "非線形問題を解く際に、より高い次元の新しい特徴空間に投射し、線形分離な状態にする <p>\n",
    "そのあと、次元削減"
   ]
  },
  {
   "cell_type": "code",
   "execution_count": null,
   "metadata": {
    "collapsed": true
   },
   "outputs": [],
   "source": []
  }
 ],
 "metadata": {
  "kernelspec": {
   "display_name": "Python 3",
   "language": "python",
   "name": "python3"
  },
  "language_info": {
   "codemirror_mode": {
    "name": "ipython",
    "version": 3
   },
   "file_extension": ".py",
   "mimetype": "text/x-python",
   "name": "python",
   "nbconvert_exporter": "python",
   "pygments_lexer": "ipython3",
   "version": "3.6.0"
  }
 },
 "nbformat": 4,
 "nbformat_minor": 2
}
