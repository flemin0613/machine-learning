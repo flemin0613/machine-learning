{
 "cells": [
  {
   "cell_type": "markdown",
   "metadata": {},
   "source": [
    "# ロジスティック回帰について"
   ]
  },
  {
   "cell_type": "markdown",
   "metadata": {},
   "source": [
    "Perceptron ：　線形分離可能なデータにつかえる。　<br>\n",
    "線形分離できない<br>\n",
    "　　　↓<br>\n",
    "##### ロジスティック回帰をつかう<br>"
   ]
  },
  {
   "cell_type": "markdown",
   "metadata": {},
   "source": [
    "perceptronは内積の符号さえ正しければ、重みの更新は行わない。<br>\n",
    "つまり、+100000 と　+0.00001 は同じ領域であると判別する。"
   ]
  },
  {
   "cell_type": "markdown",
   "metadata": {},
   "source": [
    "perceptronは値の符号は学習しても、値の大小は学習しない。<br>"
   ]
  },
  {
   "cell_type": "markdown",
   "metadata": {},
   "source": [
    "そこで、分類モデルを確率化することで、「信頼度」を組み込む。<br>\n",
    "正に分類される確率を p　<br>\n",
    "不に分類される確率を 1-p　<br>\n",
    "\n",
    "p > 0.5 だと　正に分類できる　等..."
   ]
  },
  {
   "cell_type": "markdown",
   "metadata": {},
   "source": [
    "perceptronの式をみてみると・・・・"
   ]
  },
  {
   "cell_type": "markdown",
   "metadata": {},
   "source": [
    "<img  src=\"test3.png\"/>"
   ]
  },
  {
   "cell_type": "markdown",
   "metadata": {
    "collapsed": true
   },
   "source": [
    "f(x)はすべての実数をとるため、確率にできない。<br>\n",
    "そこで、実数全体を0～1に無理やり押し込む関数σを用意する<br>\n",
    "σ　：　シグモイド関数　or ロジスティック関数"
   ]
  },
  {
   "cell_type": "markdown",
   "metadata": {},
   "source": [
    "<img  src=\"test4.png\"/>"
   ]
  },
  {
   "cell_type": "markdown",
   "metadata": {},
   "source": [
    "このσにf(x)を放り込んで、　新しい関数p(x) = σ(f(x))を作ることで、p(x)が0から1の範囲にはいるため、確率として考えることができる。"
   ]
  },
  {
   "cell_type": "code",
   "execution_count": null,
   "metadata": {
    "collapsed": true
   },
   "outputs": [],
   "source": []
  }
 ],
 "metadata": {
  "kernelspec": {
   "display_name": "Python 3",
   "language": "python",
   "name": "python3"
  },
  "language_info": {
   "codemirror_mode": {
    "name": "ipython",
    "version": 3
   },
   "file_extension": ".py",
   "mimetype": "text/x-python",
   "name": "python",
   "nbconvert_exporter": "python",
   "pygments_lexer": "ipython3",
   "version": "3.6.0"
  }
 },
 "nbformat": 4,
 "nbformat_minor": 2
}
