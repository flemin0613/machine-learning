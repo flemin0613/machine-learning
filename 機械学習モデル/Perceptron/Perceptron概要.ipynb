{
 "cells": [
  {
   "cell_type": "markdown",
   "metadata": {},
   "source": [
    "# Perceptronについての理解度を整理"
   ]
  },
  {
   "cell_type": "markdown",
   "metadata": {
    "collapsed": false
   },
   "source": [
    "#### n個の入力を受けるニューロンモデルを数式で表す。 \n",
    "#### それぞれのデータの重みベクトルをwとする "
   ]
  },
  {
   "cell_type": "markdown",
   "metadata": {},
   "source": [
    "<img  src=\"test1.png\"/>"
   ]
  },
  {
   "cell_type": "markdown",
   "metadata": {},
   "source": [
    "$$　　ネット値u = 入力1 × 結合荷重1 + 入力2 × 結合荷重2 + ... + 入力n × 結合荷重n  \\\\\n",
    "= X_1W_1 + X_2W_2... + X_nW_n \\\\\n",
    " = \\sum_{i=1}^n X_iW_i \\tag{1-1}  $$ "
   ]
  },
  {
   "cell_type": "markdown",
   "metadata": {},
   "source": [
    "###### uの値から出力値f(u)を計算する関数を活性化関数という。\n",
    "###### f(u)はuが閾値を超えたら、1　超えなかったら0 を返す。\n",
    "###### 活性化関数はいくつかあり、一番単純な活性化関数(識別関数)は　階段関数で以下に示す。\n"
   ]
  },
  {
   "cell_type": "markdown",
   "metadata": {},
   "source": [
    " $$ \n",
    "  f(u) = \\begin{cases}\n",
    "    1 & (u\\geq 0) \\\\\n",
    "    0 & (u<0)\n",
    "  \\end{cases}\n",
    " $$\n"
   ]
  },
  {
   "cell_type": "markdown",
   "metadata": {},
   "source": [
    "<img  src=\"test2.png\"/>"
   ]
  },
  {
   "cell_type": "markdown",
   "metadata": {},
   "source": [
    "### すべてのデータを計算した結果の重みベクトルと垂直な直線が境界線となり、データを分離できる。\n",
    "### 内積を計算した結果を識別関数にかけて、分離させる。"
   ]
  }
 ],
 "metadata": {
  "kernelspec": {
   "display_name": "Python 3",
   "language": "python",
   "name": "python3"
  },
  "language_info": {
   "codemirror_mode": {
    "name": "ipython",
    "version": 3
   },
   "file_extension": ".py",
   "mimetype": "text/x-python",
   "name": "python",
   "nbconvert_exporter": "python",
   "pygments_lexer": "ipython3",
   "version": "3.6.0"
  }
 },
 "nbformat": 4,
 "nbformat_minor": 2
}
