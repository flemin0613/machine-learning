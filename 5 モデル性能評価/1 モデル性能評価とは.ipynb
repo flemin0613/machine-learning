{
 "cells": [
  {
   "cell_type": "markdown",
   "metadata": {},
   "source": [
    "## モデル性能の評価とは"
   ]
  },
  {
   "cell_type": "markdown",
   "metadata": {},
   "source": [
    "機械学習モデルの構築において、モデルにとって未知のデータを使って性能を評価することが重要。　<p>\n",
    "モデルをトレーニングデータセットで学習させ、同じデータを使用して実際の性能を評価するとする。　<p>\n",
    "　<p>\n",
    "トレーニングデータに対して　<p>\n",
    "モデルが単純すぎる　→　学習不足(バイアスが高い)　<p>\n",
    "モデルが複雑すぎる　→　過学習(バリアンスが高い)　<p>\n",
    "バイアスとバリアンスの適度なバランスをとることは、モデルを入念に評価する必要がある　<p>\n",
    "\n",
    "未知のデータに対するモデルの性能を的確に推定すべき　<p>\n",
    "\n",
    "\n",
    "\n",
    "\n"
   ]
  },
  {
   "cell_type": "code",
   "execution_count": null,
   "metadata": {
    "collapsed": true
   },
   "outputs": [],
   "source": []
  }
 ],
 "metadata": {
  "kernelspec": {
   "display_name": "Python 3",
   "language": "python",
   "name": "python3"
  },
  "language_info": {
   "codemirror_mode": {
    "name": "ipython",
    "version": 3
   },
   "file_extension": ".py",
   "mimetype": "text/x-python",
   "name": "python",
   "nbconvert_exporter": "python",
   "pygments_lexer": "ipython3",
   "version": "3.6.0"
  }
 },
 "nbformat": 4,
 "nbformat_minor": 2
}
